{
  "cells": [
    {
      "cell_type": "markdown",
      "metadata": {
        "id": "rHSwCisQ4ouP"
      },
      "source": [
        "Try this on full spam1.csv file and unigram matching"
      ]
    },
    {
      "cell_type": "markdown",
      "metadata": {
        "id": "kcJ5BY552WO0"
      },
      "source": [
        "Spam classification using Count Vectorization and TFIDf Vectorization"
      ]
    },
    {
      "cell_type": "code",
      "execution_count": 22,
      "metadata": {
        "id": "9kjMxkDkcrGZ"
      },
      "outputs": [],
      "source": [
        "import pandas as pd\n",
        "from sklearn.feature_extraction.text import CountVectorizer\n",
        "from sklearn.preprocessing import LabelEncoder"
      ]
    },
    {
      "cell_type": "code",
      "execution_count": 23,
      "metadata": {
        "id": "f9blU4Dsc78P"
      },
      "outputs": [],
      "source": [
        "stopwords = [\"a\", \"about\", \"above\", \"after\", \"again\", \"against\", \"all\", \"am\",\n",
        "\"an\", \"and\", \"any\", \"are\", \"as\", \"at\", \"be\", \"because\", \"been\", \"before\",\n",
        "\"being\", \"below\", \"between\", \"both\", \"but\", \"by\", \"could\", \"did\", \"do\",\n",
        "\"does\", \"doing\", \"down\", \"during\", \"each\", \"few\", \"for\", \"from\", \"further\",\n",
        "\"had\", \"has\", \"have\", \"having\", \"he\", \"he'd\", \"he'll\", \"he's\", \"her\", \"here\",\n",
        "\"here's\", \"hers\", \"herself\", \"him\", \"himself\", \"his\", \"how\", \"how's\", \"i\",\n",
        "\"i'd\", \"i'll\", \"i'm\", \"i've\", \"if\", \"in\", \"into\", \"is\", \"it\", \"it's\", \"its\",\n",
        "\"itself\", \"let's\", \"me\", \"more\", \"most\", \"my\", \"myself\", \"nor\", \"of\", \"on\",\n",
        "\"once\", \"only\", \"or\", \"other\", \"ought\", \"our\", \"ours\", \"ourselves\", \"out\",\n",
        "\"over\", \"own\", \"same\", \"she\", \"she'd\", \"she'll\", \"she's\", \"should\", \"so\",\n",
        "\"some\", \"such\", \"than\", \"that\", \"that's\", \"the\", \"their\", \"theirs\", \"them\",\n",
        "\"themselves\", \"then\", \"there\", \"there's\", \"these\", \"they\", \"they'd\",\n",
        "\"they'll\", \"they're\", \"they've\", \"this\", \"those\", \"through\", \"to\", \"too\",\n",
        "\"under\", \"until\", \"up\", \"very\", \"was\", \"we\", \"we'd\", \"we'll\", \"we're\",\n",
        "\"we've\", \"were\", \"what\", \"what's\", \"when\", \"when's\", \"where\", \"where's\",\n",
        "\"which\", \"while\", \"who\", \"who's\", \"whom\", \"why\", \"why's\", \"with\", \"would\",\n",
        "\"you\", \"you'd\", \"you'll\", \"you're\", \"you've\", \"your\", \"yours\", \"yourself\",\n",
        "\"yourselves\"]"
      ]
    },
    {
      "cell_type": "code",
      "execution_count": 24,
      "metadata": {
        "colab": {
          "base_uri": "https://localhost:8080/"
        },
        "id": "U21UDmxwdECh",
        "outputId": "e014845a-724f-4df3-b44c-3aaf50d93783"
      },
      "outputs": [
        {
          "name": "stdout",
          "output_type": "stream",
          "text": [
            "\n",
            "Data :\n",
            "     v1                                                 v2\n",
            "0    1  Free entry in 2 a wkly comp to win FA Cup fina...\n",
            "1    1  FreeMsg Hey there darling it's been 3 week's n...\n",
            "2    1  WINNER!! As a valued network customer you have...\n",
            "3    1  Had your mobile 11 months or more? U R entitle...\n",
            "4    1  SIX chances to win CASH! From 100 to 20,000 po...\n",
            "5    1  URGENT! You have won a 1 week FREE membership ...\n",
            "6    1  XXXMobileMovieClub: To use your credit, click ...\n",
            "7    1  England v Macedonia - dont miss the goals/team...\n",
            "8    1  Thanks for your subscription to Ringtone UK yo...\n",
            "9    1  07732584351 - Rodger Burns - MSG = We tried to...\n",
            "10   1  SMS. ac Sptv: The New Jersey Devils and the De...\n",
            "11   1  Congrats! 1 year special cinema pass for 2 is ...\n",
            "12   1  As a valued customer, I am pleased to advise y...\n",
            "13   1  Urgent UR awarded a complimentary trip to Euro...\n",
            "14   1  Did you hear about the new \\Divorce Barbie\\\"? ...\n",
            "15   1  Please call our customer service representativ...\n",
            "16   1  Your free ringtone is waiting to be collected....\n",
            "17   1  GENT! We are trying to contact you. Last weeke...\n",
            "18   1  You are a winner U have been specially selecte...\n",
            "19   1  PRIVATE! Your 2004 Account Statement for 07742...\n"
          ]
        }
      ],
      "source": [
        "from sklearn import preprocessing\n",
        "import numpy as np\n",
        "datasets = pd.read_csv('/content/spam1.csv', encoding=\"ISO-8859-1\")\n",
        "# datasets.drop([\"Unnamed: 2\", \"Unnamed: 3\", \"Unnamed: 4\"], axis = 1, inplace = True)\n",
        "datasets[\"v1\"]=np.where(datasets[\"v1\"]=='spam',1,0)\n",
        "print(\"\\nData :\\n\",datasets.head(20))"
      ]
    },
    {
      "cell_type": "code",
      "execution_count": 25,
      "metadata": {
        "colab": {
          "base_uri": "https://localhost:8080/"
        },
        "id": "opvvouGrdckg",
        "outputId": "9d939e31-614f-4bbb-e43a-1cf1e7c7e421"
      },
      "outputs": [
        {
          "data": {
            "text/plain": [
              "(129,)"
            ]
          },
          "execution_count": 25,
          "metadata": {},
          "output_type": "execute_result"
        }
      ],
      "source": [
        "from sklearn.model_selection import train_test_split\n",
        "X_train, X_test, y_train, y_test = train_test_split(datasets[\"v2\"], datasets[\"v1\"],random_state=125)\n",
        "X_test.shape"
      ]
    },
    {
      "cell_type": "markdown",
      "metadata": {
        "id": "k15Sq8WRydf-"
      },
      "source": [
        "CountVectorizer\n",
        "\n",
        "\n",
        "Perform count vectorization on training data."
      ]
    },
    {
      "cell_type": "code",
      "execution_count": 26,
      "metadata": {
        "colab": {
          "base_uri": "https://localhost:8080/"
        },
        "id": "bq4bVHK6di2s",
        "outputId": "e2f8c7fa-155e-4c6b-f06b-2ac09ba0d6a7"
      },
      "outputs": [
        {
          "name": "stdout",
          "output_type": "stream",
          "text": [
            "[[0 0 0 ... 0 0 0]\n",
            " [0 0 0 ... 0 0 0]\n",
            " [0 0 0 ... 0 0 0]\n",
            " ...\n",
            " [0 0 0 ... 0 0 0]\n",
            " [0 0 0 ... 0 0 0]\n",
            " [0 0 0 ... 0 0 0]]\n"
          ]
        },
        {
          "name": "stderr",
          "output_type": "stream",
          "text": [
            "/usr/local/lib/python3.7/dist-packages/sklearn/feature_extraction/text.py:401: UserWarning: Your stop_words may be inconsistent with your preprocessing. Tokenizing the stop words generated tokens ['let', 'll', 're', 've'] not in stop_words.\n",
            "  % sorted(inconsistent)\n"
          ]
        }
      ],
      "source": [
        "vectorizer = CountVectorizer(ngram_range = (1, 1),stop_words=stopwords)\n",
        "vectorizer.fit(X_train)\n",
        "X_train_vectorized = vectorizer.fit_transform(X_train)\n",
        "# print(vectorizer.get_feature_names())\n",
        "print(X_train_vectorized.toarray())\n"
      ]
    },
    {
      "cell_type": "code",
      "execution_count": 27,
      "metadata": {
        "colab": {
          "base_uri": "https://localhost:8080/"
        },
        "id": "AoT69Lv-dl-T",
        "outputId": "0d190977-b4fd-4da6-e24d-379a9034a2e4"
      },
      "outputs": [
        {
          "data": {
            "text/plain": [
              "MultinomialNB()"
            ]
          },
          "execution_count": 27,
          "metadata": {},
          "output_type": "execute_result"
        }
      ],
      "source": [
        "from sklearn.naive_bayes import MultinomialNB\n",
        "from sklearn.metrics import accuracy_score\n",
        "model=MultinomialNB()\n",
        "model.fit(X_train_vectorized,y_train)"
      ]
    },
    {
      "cell_type": "code",
      "execution_count": 28,
      "metadata": {
        "colab": {
          "base_uri": "https://localhost:8080/"
        },
        "id": "KmT4ZJIxy1Tf",
        "outputId": "ca61657c-bc0e-4960-cbfb-8395d2f6bbbf"
      },
      "outputs": [
        {
          "name": "stdout",
          "output_type": "stream",
          "text": [
            "Accuracy:  0.9844961240310077\n",
            "\n",
            "Precision:  0.9767441860465116\n",
            "\n",
            "Recall:  0.9767441860465116\n"
          ]
        }
      ],
      "source": [
        "from sklearn.metrics import accuracy_score, precision_score, recall_score\n",
        "predictions = model.predict(vectorizer.transform(X_test))\n",
        "\n",
        "print(\"Accuracy: \", accuracy_score(y_test, predictions))\n",
        "print(\"\\nPrecision: \", precision_score(y_test, predictions))\n",
        "print(\"\\nRecall: \", recall_score(y_test, predictions))"
      ]
    },
    {
      "cell_type": "markdown",
      "metadata": {
        "id": "VTOQVNkTzTNK"
      },
      "source": [
        "Apply the Decision Tree Classifier on vectorized data."
      ]
    },
    {
      "cell_type": "code",
      "execution_count": 29,
      "metadata": {
        "colab": {
          "base_uri": "https://localhost:8080/"
        },
        "id": "Wg6Ug6DIzSSY",
        "outputId": "7c21751c-05a4-4489-f21d-1527c78995fe"
      },
      "outputs": [
        {
          "data": {
            "text/plain": [
              "DecisionTreeClassifier()"
            ]
          },
          "execution_count": 29,
          "metadata": {},
          "output_type": "execute_result"
        }
      ],
      "source": [
        "from sklearn.tree import DecisionTreeClassifier\n",
        "clf = DecisionTreeClassifier()\n",
        "clf.fit(X_train_vectorized, y_train)"
      ]
    },
    {
      "cell_type": "code",
      "execution_count": 30,
      "metadata": {
        "colab": {
          "base_uri": "https://localhost:8080/"
        },
        "id": "IxW8lZaCzfpo",
        "outputId": "5649ef91-ed5f-41a8-d4f9-79d03f424179"
      },
      "outputs": [
        {
          "name": "stdout",
          "output_type": "stream",
          "text": [
            "Accuracy:  0.9457364341085271\n",
            "\n",
            "Precision:  0.95\n",
            "\n",
            "Recall:  0.8837209302325582\n"
          ]
        }
      ],
      "source": [
        "from sklearn.metrics import accuracy_score, precision_score, recall_score\n",
        "predictions = clf.predict(vectorizer.transform(X_test))\n",
        "\n",
        "print(\"Accuracy: \", accuracy_score(y_test, predictions))\n",
        "print(\"\\nPrecision: \", precision_score(y_test, predictions))\n",
        "print(\"\\nRecall: \", recall_score(y_test, predictions))"
      ]
    },
    {
      "cell_type": "markdown",
      "metadata": {
        "id": "ApfVqzCu2OB3"
      },
      "source": [
        "TFIDF Vectorizer\n",
        "\n",
        "\n",
        "Perform IFIDF vectorization on training data."
      ]
    },
    {
      "cell_type": "code",
      "execution_count": 31,
      "metadata": {
        "colab": {
          "base_uri": "https://localhost:8080/"
        },
        "id": "OgzTG3-l2UCF",
        "outputId": "3b5923f3-dc4b-4906-f1e2-8d4ee9a06bab"
      },
      "outputs": [
        {
          "name": "stdout",
          "output_type": "stream",
          "text": [
            "[[0. 0. 0. ... 0. 0. 0.]\n",
            " [0. 0. 0. ... 0. 0. 0.]\n",
            " [0. 0. 0. ... 0. 0. 0.]\n",
            " ...\n",
            " [0. 0. 0. ... 0. 0. 0.]\n",
            " [0. 0. 0. ... 0. 0. 0.]\n",
            " [0. 0. 0. ... 0. 0. 0.]]\n"
          ]
        },
        {
          "name": "stderr",
          "output_type": "stream",
          "text": [
            "/usr/local/lib/python3.7/dist-packages/sklearn/feature_extraction/text.py:401: UserWarning: Your stop_words may be inconsistent with your preprocessing. Tokenizing the stop words generated tokens ['let', 'll', 're', 've'] not in stop_words.\n",
            "  % sorted(inconsistent)\n"
          ]
        }
      ],
      "source": [
        "from sklearn.feature_extraction.text import TfidfVectorizer\n",
        "\n",
        "vectorizer = TfidfVectorizer(ngram_range = (1, 1),stop_words = stopwords)\n",
        "vectorizer.fit(X_train)\n",
        "X_train_tfidf_vectorized = vectorizer.transform(X_train)\n",
        "print(X_train_tfidf_vectorized.toarray())"
      ]
    },
    {
      "cell_type": "markdown",
      "metadata": {
        "id": "o_lQkG2P3N6g"
      },
      "source": [
        "\n",
        "Apply the Naive Bayes on IFIDF vectorized data."
      ]
    },
    {
      "cell_type": "code",
      "execution_count": 32,
      "metadata": {
        "colab": {
          "base_uri": "https://localhost:8080/"
        },
        "id": "xE8QckeL3NiT",
        "outputId": "513f1ab7-f4d1-4474-fd79-02ec5a6ee851"
      },
      "outputs": [
        {
          "data": {
            "text/plain": [
              "MultinomialNB()"
            ]
          },
          "execution_count": 32,
          "metadata": {},
          "output_type": "execute_result"
        }
      ],
      "source": [
        "model = MultinomialNB()\n",
        "model.fit(X_train_tfidf_vectorized, y_train)"
      ]
    },
    {
      "cell_type": "code",
      "execution_count": 33,
      "metadata": {
        "colab": {
          "base_uri": "https://localhost:8080/"
        },
        "id": "98Wki1OV3a7R",
        "outputId": "36f3378e-565d-4987-819e-c6835bcc3c2f"
      },
      "outputs": [
        {
          "name": "stdout",
          "output_type": "stream",
          "text": [
            "Accuracy:  0.9612403100775194\n",
            "\n",
            "Precision:  1.0\n",
            "\n",
            "Recall:  0.8837209302325582\n"
          ]
        }
      ],
      "source": [
        "predictions = model.predict(vectorizer.transform(X_test))\n",
        "\n",
        "print(\"Accuracy: \", accuracy_score(y_test, predictions))\n",
        "print(\"\\nPrecision: \", precision_score(y_test, predictions))\n",
        "print(\"\\nRecall: \", recall_score(y_test, predictions))"
      ]
    },
    {
      "cell_type": "markdown",
      "metadata": {
        "id": "6iQUmaIb3pKs"
      },
      "source": [
        "Apply the Decision Tree Classifier on IFIDF vectorized data."
      ]
    },
    {
      "cell_type": "code",
      "execution_count": 34,
      "metadata": {
        "colab": {
          "base_uri": "https://localhost:8080/"
        },
        "id": "Vermn96X3o4-",
        "outputId": "3d677a82-aa2c-4b16-8349-311b12bc9556"
      },
      "outputs": [
        {
          "data": {
            "text/plain": [
              "DecisionTreeClassifier()"
            ]
          },
          "execution_count": 34,
          "metadata": {},
          "output_type": "execute_result"
        }
      ],
      "source": [
        "from sklearn.tree import DecisionTreeClassifier\n",
        "clf = DecisionTreeClassifier()\n",
        "clf.fit(X_train_tfidf_vectorized, y_train)"
      ]
    },
    {
      "cell_type": "code",
      "execution_count": 35,
      "metadata": {
        "colab": {
          "base_uri": "https://localhost:8080/"
        },
        "id": "XmbgnjIK3yvg",
        "outputId": "02de1acd-668c-4b0d-8f39-c61fad431241"
      },
      "outputs": [
        {
          "name": "stdout",
          "output_type": "stream",
          "text": [
            "Accuracy:  0.9457364341085271\n",
            "\n",
            "Precision:  0.95\n",
            "\n",
            "Recall:  0.8837209302325582\n"
          ]
        }
      ],
      "source": [
        "predictions = clf.predict(vectorizer.transform(X_test))\n",
        "\n",
        "print(\"Accuracy: \", accuracy_score(y_test, predictions))\n",
        "print(\"\\nPrecision: \", precision_score(y_test, predictions))\n",
        "print(\"\\nRecall: \", recall_score(y_test, predictions))"
      ]
    }
  ],
  "metadata": {
    "colab": {
      "collapsed_sections": [],
      "name": "CE175_PrinceVanani_Lab8_Part1.ipynb",
      "provenance": []
    },
    "kernelspec": {
      "display_name": "Python 3",
      "name": "python3"
    },
    "language_info": {
      "name": "python"
    }
  },
  "nbformat": 4,
  "nbformat_minor": 0
}
