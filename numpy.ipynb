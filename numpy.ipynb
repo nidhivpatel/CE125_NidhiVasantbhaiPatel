{
 "cells": [
  {
   "cell_type": "markdown",
   "metadata": {},
   "source": [
    "1) Create a Numpy array of size 4 x 5."
   ]
  },
  {
   "cell_type": "code",
   "execution_count": 3,
   "metadata": {},
   "outputs": [
    {
     "name": "stdout",
     "output_type": "stream",
     "text": [
      "[[ 1  2  3  4]\n",
      " [ 4  5  6  4]\n",
      " [ 7  8  9  4]\n",
      " [10 11 12  4]\n",
      " [13 14 15  4]]\n"
     ]
    }
   ],
   "source": [
    "import numpy as np\n",
    "matrix=np.array([[1,2,3,4],[4,5,6,4],[7,8,9,4],[10,11,12,4],[13,14,15,4]])\n",
    "print(matrix)"
   ]
  },
  {
   "cell_type": "markdown",
   "metadata": {},
   "source": [
    "2) Randomly initialize the array."
   ]
  },
  {
   "cell_type": "code",
   "execution_count": 10,
   "metadata": {},
   "outputs": [
    {
     "name": "stdout",
     "output_type": "stream",
     "text": [
      "[0.46608324 0.3144786  0.21682321 0.62409528 0.67806998]\n"
     ]
    }
   ],
   "source": [
    "rand=np.random.rand(5)\n",
    "print(rand)"
   ]
  },
  {
   "cell_type": "markdown",
   "metadata": {},
   "source": [
    "3) Get the Transpose of the Matrix that you created. Create a square matrix and find its determinant."
   ]
  },
  {
   "cell_type": "code",
   "execution_count": 11,
   "metadata": {},
   "outputs": [
    {
     "name": "stdout",
     "output_type": "stream",
     "text": [
      "[[ 1  4  7 10 13]\n",
      " [ 2  5  8 11 14]\n",
      " [ 3  6  9 12 15]\n",
      " [ 4  4  4  4  4]]\n"
     ]
    }
   ],
   "source": [
    "print(matrix.transpose())"
   ]
  },
  {
   "cell_type": "markdown",
   "metadata": {},
   "source": [
    "4) Create another matrix of size 5 x 4 and randomly initialize it."
   ]
  },
  {
   "cell_type": "code",
   "execution_count": 12,
   "metadata": {},
   "outputs": [
    {
     "name": "stdout",
     "output_type": "stream",
     "text": [
      "[[0.89050012 0.15440471 0.78508522 0.46574174]\n",
      " [0.49422221 0.78480468 0.28309528 0.73176822]\n",
      " [0.99903864 0.89235322 0.58962151 0.42131003]\n",
      " [0.29716664 0.61875279 0.74221678 0.19687764]\n",
      " [0.69811749 0.62953523 0.77406645 0.60597402]]\n"
     ]
    }
   ],
   "source": [
    "rand=np.random.rand(5,4)\n",
    "print(rand)"
   ]
  },
  {
   "cell_type": "markdown",
   "metadata": {},
   "source": [
    "5) Perform Matrix multiplication.\n",
    "6) Perform element wise matrix multiplication."
   ]
  },
  {
   "cell_type": "code",
   "execution_count": 15,
   "metadata": {},
   "outputs": [
    {
     "name": "stdout",
     "output_type": "stream",
     "text": [
      "[[ 3  8]\n",
      " [15 16]]\n",
      "[[15 22]\n",
      " [17 26]]\n",
      "[[15 17]\n",
      " [22 26]]\n"
     ]
    }
   ],
   "source": [
    "matrix=np.array([[1,2],[3,4]])\n",
    "matrix1=np.array([[3,4],[5,4]])*matrix\n",
    "print(matrix1)\n",
    "matrix1=np.dot(np.array([[3,4],[5,4]]),matrix)\n",
    "print(matrix1)\n",
    "matrix1=matrix1.T\n",
    "print(matrix1)"
   ]
  },
  {
   "cell_type": "markdown",
   "metadata": {},
   "source": [
    "7) Find mean, median of the numpy array created."
   ]
  },
  {
   "cell_type": "code",
   "execution_count": 16,
   "metadata": {},
   "outputs": [
    {
     "name": "stdout",
     "output_type": "stream",
     "text": [
      "20.0\n",
      "[18.5 21.5]\n",
      "[16. 24.]\n",
      "19.5\n"
     ]
    }
   ],
   "source": [
    "print(np.mean(matrix1))\n",
    "print(np.mean(matrix1,axis=0))\n",
    "print(np.mean(matrix1,axis=1))\n",
    "print(np.median(matrix1))"
   ]
  },
  {
   "cell_type": "markdown",
   "metadata": {},
   "source": [
    "8) Obtain each row in the second column of the first array."
   ]
  },
  {
   "cell_type": "code",
   "execution_count": 18,
   "metadata": {},
   "outputs": [
    {
     "name": "stdout",
     "output_type": "stream",
     "text": [
      "[2 4]\n"
     ]
    }
   ],
   "source": [
    "print(matrix[:,1])"
   ]
  },
  {
   "cell_type": "markdown",
   "metadata": {},
   "source": [
    "9) Convert Numeric entries(columns) of Iris.csv to Mean Centered Version"
   ]
  },
  {
   "cell_type": "code",
   "execution_count": null,
   "metadata": {},
   "outputs": [],
   "source": [
    "import numpy as np\n",
    "from google.colab import drive\n",
    "drive.mount('/content/drive')\n",
    "data=pd.read_csv('/content/drive/MyDrive/Iris.csv - Iris.csv.csv')\n",
    "centered=data['SepalLengthCm']-np.mean(data['SepalLengthCm'],axis=0)\n",
    "print(centered)"
   ]
  },
  {
   "cell_type": "markdown",
   "metadata": {},
   "source": [
    "10) Study about numpy array attributes and implement it on the first matrix."
   ]
  }
 ],
 "metadata": {
  "interpreter": {
   "hash": "7f1ac881e98f8dc79c38ff4663acabcc3cd2fe893f80c95c6ef9b027b338431f"
  },
  "kernelspec": {
   "display_name": "Python 3.8.0 64-bit",
   "language": "python",
   "name": "python3"
  },
  "language_info": {
   "codemirror_mode": {
    "name": "ipython",
    "version": 3
   },
   "file_extension": ".py",
   "mimetype": "text/x-python",
   "name": "python",
   "nbconvert_exporter": "python",
   "pygments_lexer": "ipython3",
   "version": "3.8.0"
  },
  "orig_nbformat": 4
 },
 "nbformat": 4,
 "nbformat_minor": 2
}
